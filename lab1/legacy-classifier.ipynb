{
 "cells": [
  {
   "cell_type": "code",
   "execution_count": 1,
   "metadata": {},
   "outputs": [],
   "source": [
    "import os\n",
    "import warnings\n",
    "from glob import glob\n",
    "from typing import List, Tuple\n",
    "\n",
    "import IPython.display as ipd\n",
    "import librosa\n",
    "import librosa.display\n",
    "import librosa.filters\n",
    "import matplotlib.pyplot as plt\n",
    "import numpy as np\n",
    "import pandas as pd\n",
    "import scipy\n",
    "import scipy.fft\n",
    "import sklearn\n",
    "import soundfile as sf\n",
    "import torch\n",
    "from sklearn.metrics import classification_report\n",
    "from sklearn.model_selection import train_test_split\n",
    "from sklearn.tree import DecisionTreeClassifier\n",
    "from torchaudio.transforms import AmplitudeToDB, MelSpectrogram\n",
    "from torchvision.transforms import Compose\n",
    "\n",
    "warnings.filterwarnings(\"ignore\")\n",
    "%matplotlib inline"
   ]
  },
  {
   "cell_type": "code",
   "execution_count": 2,
   "metadata": {},
   "outputs": [],
   "source": [
    "def load_yn_dataset(directory):\n",
    "    X, labels = [], []\n",
    "    bad_files = set([\"0_1_0_1_0_0_0_0\"])\n",
    "    for f in glob(directory +\"/*.wav\"):\n",
    "        name = os.path.basename(f)[:-4]\n",
    "        if name in bad_files:\n",
    "            continue\n",
    "        y = [int(l) for l in name.split(\"_\")]\n",
    "        x, _ = librosa.load(f)\n",
    "        X.append(x)\n",
    "        labels.append(y)\n",
    "        \n",
    "    return X, labels\n",
    "        \n",
    "X, Y = load_yn_dataset(\"waves_yesno/\")"
   ]
  },
  {
   "cell_type": "code",
   "execution_count": 3,
   "metadata": {},
   "outputs": [],
   "source": [
    "def VAD(wav: np.ndarray, sr: int, step: int = 10, hop_length = 512, threshold: int = -3.0) -> List[np.ndarray]:\n",
    "    window = scipy.signal.get_window(\"hann\", step)\n",
    "    mfcc = librosa.feature.mfcc(wav, sr, n_mfcc=20, n_mels=128, hop_length=hop_length)\n",
    "    if mfcc.shape[1] % step != 0:\n",
    "        pad_lenght = ((mfcc.shape[1] // step) + 1) * step - mfcc.shape[1]\n",
    "        mfcc = np.pad(mfcc, (0, pad_lenght), \"reflect\")\n",
    "\n",
    "    y_wav = np.zeros(mfcc.shape[1] * hop_length)\n",
    "    for i in range(0, mfcc.shape[1], step):\n",
    "        frame = mfcc[:, i: i+step] * window\n",
    "        # frame = frame[10:,:]\n",
    "        aver_power_low = frame[10:,:].sum() / np.dot(*frame[10:,:].shape)\n",
    "        # aver_power_hight = frame[:10,:].sum() / np.dot(*frame[:10,:].shape)\n",
    "        \n",
    "        if aver_power_low < threshold:\n",
    "            y_wav[i*hop_length:(i+step)*hop_length] = 1\n",
    "        else:\n",
    "            y_wav[i*hop_length:(i+step)*hop_length] = 0\n",
    "    \n",
    "    return y_wav[0:wav.shape[0]]"
   ]
  },
  {
   "cell_type": "code",
   "execution_count": 4,
   "metadata": {},
   "outputs": [],
   "source": [
    "def reconstruct_data(wavs: List[np.ndarray], labels: List[int]) -> Tuple[List[np.ndarray], List[int]]:\n",
    "    voices_labels = [VAD(x, 8000, step=9, hop_length=256, threshold=-2.2) for x in wavs]\n",
    "    \n",
    "    split_indices = list()\n",
    "    new_labels = list()\n",
    "    for i in range(len(wavs)):\n",
    "        voice_labels = voices_labels[i]\n",
    "        word_labels = labels[i]\n",
    "        \n",
    "        split_index = list()\n",
    "        new_label = list()\n",
    "        \n",
    "        word_idx = 0\n",
    "        prev_label = voice_labels[0]\n",
    "        if voice_labels[0] == 0:\n",
    "            new_label.append(2)\n",
    "        else:\n",
    "            new_label.append(word_labels[word_idx])\n",
    "            word_idx += 1\n",
    "\n",
    "        for idx, label in enumerate(voice_labels):\n",
    "            if label != prev_label:\n",
    "                split_index.append(idx)\n",
    "                if label == 0:\n",
    "                    new_label.append(2)\n",
    "                else:\n",
    "                    if word_idx < len(word_labels):\n",
    "                        new_label.append(word_labels[word_idx])\n",
    "                        word_idx += 1\n",
    "                    else:\n",
    "                        new_label.append(2)\n",
    "            prev_label = label\n",
    "        \n",
    "        split_indices.append(split_index)\n",
    "        new_labels.append(new_label)\n",
    "\n",
    "    \n",
    "    new_X = list()\n",
    "    new_Y = list()\n",
    "    for idx, split_index in enumerate(split_indices):\n",
    "        label = new_labels[idx]\n",
    "        short_wavs = np.split(wavs[idx], np.array(split_index))\n",
    "\n",
    "        new_X.extend(short_wavs)\n",
    "        new_Y.extend(label)\n",
    "\n",
    "    return new_X, new_Y"
   ]
  },
  {
   "cell_type": "code",
   "execution_count": 5,
   "metadata": {},
   "outputs": [],
   "source": [
    "new_X, new_Y = reconstruct_data(X, Y)\n",
    "X_train, X_test, Y_train, Y_test = train_test_split(new_X, new_Y,test_size=0.2, random_state=1)"
   ]
  },
  {
   "cell_type": "code",
   "execution_count": 6,
   "metadata": {},
   "outputs": [],
   "source": [
    "transform = Compose([\n",
    "    MelSpectrogram(sample_rate=8000, n_mels=128, n_fft=4096, win_length=4096, hop_length=2048, pad_mode=\"reflect\", f_max=1500),\n",
    "    AmplitudeToDB(stype=\"power\", top_db=80)\n",
    "])"
   ]
  },
  {
   "cell_type": "code",
   "execution_count": 7,
   "metadata": {},
   "outputs": [
    {
     "data": {
      "text/plain": [
       "230"
      ]
     },
     "execution_count": 7,
     "metadata": {},
     "output_type": "execute_result"
    }
   ],
   "source": [
    "X_train.index(max(X_train, key=len))"
   ]
  },
  {
   "cell_type": "code",
   "execution_count": 8,
   "metadata": {},
   "outputs": [
    {
     "name": "stdout",
     "output_type": "stream",
     "text": [
      "2\n"
     ]
    },
    {
     "data": {
      "image/png": "[encoded data removed]",
      "text/plain": [
       "<Figure size 640x480 with 1 Axes>"
      ]
     },
     "metadata": {},
     "output_type": "display_data"
    }
   ],
   "source": [
    "idx = 230\n",
    "print(Y_train[idx])\n",
    "plt.plot(X_train[idx])\n",
    "plt.show()"
   ]
  },
  {
   "cell_type": "code",
   "execution_count": 9,
   "metadata": {},
   "outputs": [
    {
     "data": {
      "image/png": "[encoded data removed]",
      "text/plain": [
       "<Figure size 400x1600 with 1 Axes>"
      ]
     },
     "metadata": {},
     "output_type": "display_data"
    }
   ],
   "source": [
    "plt.matshow(transform(torch.from_numpy(X_train[idx])))\n",
    "plt.show()"
   ]
  },
  {
   "cell_type": "code",
   "execution_count": 10,
   "metadata": {},
   "outputs": [
    {
     "data": {
      "text/plain": [
       "5000     295\n",
       "7000     203\n",
       "9000     126\n",
       "2000      61\n",
       "12000     22\n",
       "dtype: int64"
      ]
     },
     "execution_count": 10,
     "metadata": {},
     "output_type": "execute_result"
    }
   ],
   "source": [
    "pd.Series([round(len(wav), -3) for wav in X_train]).value_counts().head()"
   ]
  },
  {
   "cell_type": "code",
   "execution_count": 11,
   "metadata": {},
   "outputs": [],
   "source": [
    "def crop_waveforms(waveforms: List[np.ndarray], length: int = 7000) -> torch.Tensor:\n",
    "    processed_X_tarin = list()\n",
    "    for waveform in waveforms:\n",
    "        if waveform.shape[0] >= length:\n",
    "            start = (waveform.shape[0] - length) // 2\n",
    "            end = waveform.shape[0] - start\n",
    "            if (waveform.shape[0] - length) % 2:\n",
    "                end -= 1\n",
    "            waveform = torch.from_numpy(waveform[start:end])\n",
    "        else:\n",
    "            count = (length - waveform.shape[0]) // 2\n",
    "            if (length - waveform.shape[0]) % 2 == 1:    \n",
    "                padding = (count, count + 1)\n",
    "            else:\n",
    "                padding = (count, count)\n",
    "            waveform = torch.from_numpy(np.pad(waveform, padding, mode=\"constant\"))\n",
    "        \n",
    "        waveform = waveform.unsqueeze(0)\n",
    "        processed_X_tarin.append(waveform)\n",
    "    processed_X_tarin = torch.cat(processed_X_tarin)\n",
    "    return processed_X_tarin"
   ]
  },
  {
   "cell_type": "code",
   "execution_count": 12,
   "metadata": {},
   "outputs": [],
   "source": [
    "model = DecisionTreeClassifier(random_state=1).fit(transform(crop_waveforms(X_train)).reshape(len(Y_train), -1), Y_train)"
   ]
  },
  {
   "cell_type": "code",
   "execution_count": 13,
   "metadata": {},
   "outputs": [],
   "source": [
    "Y_pred = model.predict(transform(crop_waveforms(X_test)).reshape(len(Y_test), -1))"
   ]
  },
  {
   "cell_type": "code",
   "execution_count": 14,
   "metadata": {},
   "outputs": [
    {
     "name": "stdout",
     "output_type": "stream",
     "text": [
      "              precision    recall  f1-score   support\n",
      "\n",
      "           0       0.89      0.85      0.87        40\n",
      "           1       0.88      0.96      0.92        48\n",
      "           2       1.00      0.98      0.99       113\n",
      "\n",
      "    accuracy                           0.95       201\n",
      "   macro avg       0.93      0.93      0.93       201\n",
      "weighted avg       0.95      0.95      0.95       201\n",
      "\n"
     ]
    }
   ],
   "source": [
    "print(classification_report(Y_test, Y_pred))"
   ]
  },
  {
   "cell_type": "code",
   "execution_count": null,
   "metadata": {},
   "outputs": [],
   "source": []
  }
 ],
 "metadata": {
  "kernelspec": {
   "display_name": "torch=3.9",
   "language": "python",
   "name": "python3"
  },
  "language_info": {
   "codemirror_mode": {
    "name": "ipython",
    "version": 3
   },
   "file_extension": ".py",
   "mimetype": "text/x-python",
   "name": "python",
   "nbconvert_exporter": "python",
   "pygments_lexer": "ipython3",
   "version": "3.9.13"
  },
  "orig_nbformat": 4,
  "vscode": {
   "interpreter": {
    "hash": "8fee1e698d7817f6bb88cc3f71bdbac8d76646af5364a989691deb9af48c0b80"
   }
  }
 },
 "nbformat": 4,
 "nbformat_minor": 2
}
